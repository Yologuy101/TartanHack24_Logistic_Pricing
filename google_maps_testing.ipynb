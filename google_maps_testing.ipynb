{
 "cells": [
  {
   "cell_type": "code",
   "execution_count": null,
   "metadata": {},
   "outputs": [],
   "source": [
    "with open(\"key.txt\", 'r') as f:\n",
    "    k = f.readline() \n",
    "k"
   ]
  },
  {
   "cell_type": "code",
   "execution_count": 74,
   "metadata": {},
   "outputs": [],
   "source": [
    "import googlemaps, gmplot, folium, polyline, requests\n",
    "from datetime import datetime\n",
    "from get_gps_location import RouteInfo\n",
    "\n",
    "\n",
    "# Replace 'YOUR_API_KEY' with your actual API key\n",
    "gmaps = googlemaps.Client(key=k)"
   ]
  },
  {
   "cell_type": "code",
   "execution_count": 69,
   "metadata": {},
   "outputs": [],
   "source": [
    "import folium"
   ]
  },
  {
   "cell_type": "code",
   "execution_count": 76,
   "metadata": {},
   "outputs": [],
   "source": [
    "with open(\"key.txt\", 'r') as f:\n",
    "    k = f.readline() \n",
    "k\n",
    "\n",
    "import get_gps_location\n",
    "from datetime import datetime\n",
    "s = 'Colorado Spring, CO'\n",
    "e = 'Pasadena, CA'"
   ]
  },
  {
   "cell_type": "code",
   "execution_count": 77,
   "metadata": {},
   "outputs": [],
   "source": [
    "route = get_gps_location.RouteInfo(s, e, datetime.now())"
   ]
  },
  {
   "cell_type": "code",
   "execution_count": 78,
   "metadata": {},
   "outputs": [
    {
     "data": {
      "text/plain": [
       "'17 hours 34 mins'"
      ]
     },
     "execution_count": 78,
     "metadata": {},
     "output_type": "execute_result"
    }
   ],
   "source": [
    "route.time_traffic"
   ]
  },
  {
   "cell_type": "code",
   "execution_count": 80,
   "metadata": {},
   "outputs": [
    {
     "data": {
      "text/plain": [
       "1051"
      ]
     },
     "execution_count": 80,
     "metadata": {},
     "output_type": "execute_result"
    }
   ],
   "source": [
    "route.distance"
   ]
  },
  {
   "cell_type": "code",
   "execution_count": 63,
   "metadata": {},
   "outputs": [],
   "source": [
    "n= route.get_city_weather()\n",
    "n"
   ]
  },
  {
   "cell_type": "code",
   "execution_count": 65,
   "metadata": {},
   "outputs": [],
   "source": [
    "\n",
    "dk = list(n.keys())\n",
    "res = []\n",
    "for i in range(len(dk)):\n",
    "    # print(dk[i])\n",
    "    # print(f\"The weather at {dk[i]} will have {n[dk[i]]['data']['timelines'][i]['intervals'][i]['values']} on your route\")\n",
    "    res.append(f\"The weather at {dk[i]} will have {n[dk[i]]['data']['timelines'][0]['intervals'][0]['values']} on your route\\n\")\n",
    "# dk[0]\n",
    "# n[dk[0]]['data']['timelines'][0]['intervals'][0]['values']\n",
    "# print(f\"The weather at {dk[0]} will have {n[dk[0]]['data']['timelines'][0]['intervals'][0]['values']}\")"
   ]
  },
  {
   "cell_type": "code",
   "execution_count": 66,
   "metadata": {},
   "outputs": [
    {
     "data": {
      "text/plain": [
       "[\"The weather at Allegheny County will have {'precipitationIntensity': 0, 'precipitationProbability': 0, 'precipitationType': 0, 'temperature': 44.6, 'windDirection': 359, 'windSpeed': 1.96} on your route\\n\",\n",
       " \"The weather at Blair County will have {'precipitationIntensity': 0, 'precipitationProbability': 0, 'precipitationType': 0, 'temperature': 39.67, 'windDirection': 319.69, 'windSpeed': 6.73} on your route\\n\",\n",
       " \"The weather at Centre County will have {'precipitationIntensity': 0, 'precipitationProbability': 0, 'precipitationType': 0, 'temperature': 40, 'windDirection': 20.97, 'windSpeed': 5.7} on your route\\n\",\n",
       " \"The weather at Union County will have {'precipitationIntensity': 0, 'precipitationProbability': 0, 'precipitationType': 0, 'temperature': 34.97, 'windDirection': 353.88, 'windSpeed': 6.44} on your route\\n\",\n",
       " \"The weather at Luzerne County will have {'precipitationIntensity': 0, 'precipitationProbability': 0, 'precipitationType': 0, 'temperature': 31.01, 'windDirection': 269.47, 'windSpeed': 5.72} on your route\\n\",\n",
       " \"The weather at Warren County will have {'precipitationIntensity': 0, 'precipitationProbability': 0, 'precipitationType': 0, 'temperature': 31.65, 'windDirection': 349.13, 'windSpeed': 5.16} on your route\\n\",\n",
       " \"The weather at Bergen County will have {'precipitationIntensity': 0, 'precipitationProbability': 0, 'precipitationType': 0, 'temperature': 31.76, 'windDirection': 343.12, 'windSpeed': 6.83} on your route\\n\"]"
      ]
     },
     "execution_count": 66,
     "metadata": {},
     "output_type": "execute_result"
    }
   ],
   "source": [
    "res"
   ]
  },
  {
   "cell_type": "code",
   "execution_count": 67,
   "metadata": {},
   "outputs": [],
   "source": [
    "with open('weather_info_NY_PIT.txt','w') as f:\n",
    "    f.writelines(res)"
   ]
  },
  {
   "cell_type": "code",
   "execution_count": 70,
   "metadata": {},
   "outputs": [
    {
     "name": "stdout",
     "output_type": "stream",
     "text": [
      "Route plotted successfully. Check 'route_map.html' for the map.\n"
     ]
    }
   ],
   "source": [
    "# Make map\n",
    "coord = route.gps\n",
    "\n",
    "map_center = (coord[0][0], coord[0][1])\n",
    "m = folium.Map(location=map_center, zoom_start=5)\n",
    "\n",
    "\n",
    "route_points = coord\n",
    "folium.PolyLine(route_points, color=\"blue\", weight=5, opacity=0.7).add_to(m)\n",
    "\n",
    "# Save map to an HTML file\n",
    "m.save(\"route_map.html\")\n",
    "print(\"Route plotted successfully. Check 'route_map.html' for the map.\")\n"
   ]
  }
 ],
 "metadata": {
  "kernelspec": {
   "display_name": "th24",
   "language": "python",
   "name": "python3"
  },
  "language_info": {
   "codemirror_mode": {
    "name": "ipython",
    "version": 3
   },
   "file_extension": ".py",
   "mimetype": "text/x-python",
   "name": "python",
   "nbconvert_exporter": "python",
   "pygments_lexer": "ipython3",
   "version": "3.11.7"
  }
 },
 "nbformat": 4,
 "nbformat_minor": 2
}
